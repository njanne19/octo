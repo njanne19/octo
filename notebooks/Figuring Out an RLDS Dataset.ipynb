{
 "cells": [
  {
   "cell_type": "code",
   "execution_count": 1,
   "id": "34aca2d3-3ea2-4d83-af1e-c4c0e0aaac53",
   "metadata": {},
   "outputs": [
    {
     "name": "stderr",
     "output_type": "stream",
     "text": [
      "2024-04-12 15:28:20.930102: E external/local_xla/xla/stream_executor/cuda/cuda_dnn.cc:9261] Unable to register cuDNN factory: Attempting to register factory for plugin cuDNN when one has already been registered\n",
      "2024-04-12 15:28:20.930128: E external/local_xla/xla/stream_executor/cuda/cuda_fft.cc:607] Unable to register cuFFT factory: Attempting to register factory for plugin cuFFT when one has already been registered\n",
      "2024-04-12 15:28:20.930922: E external/local_xla/xla/stream_executor/cuda/cuda_blas.cc:1515] Unable to register cuBLAS factory: Attempting to register factory for plugin cuBLAS when one has already been registered\n",
      "2024-04-12 15:28:20.935030: I tensorflow/core/platform/cpu_feature_guard.cc:182] This TensorFlow binary is optimized to use available CPU instructions in performance-critical operations.\n",
      "To enable the following instructions: AVX2 FMA, in other operations, rebuild TensorFlow with the appropriate compiler flags.\n",
      "2024-04-12 15:28:21.453097: W tensorflow/compiler/tf2tensorrt/utils/py_utils.cc:38] TF-TRT Warning: Could not find TensorRT\n"
     ]
    }
   ],
   "source": [
    "import tensorflow as tf\n",
    "import json\n",
    "import os"
   ]
  },
  {
   "cell_type": "code",
   "execution_count": 3,
   "id": "41a45b4d-30db-4a55-9f11-aba6917fdb28",
   "metadata": {},
   "outputs": [],
   "source": [
    "# Define the path to dataset files \n",
    "dataset_directory = '../../aloha_sample_dataset/aloha_sim_dataset/aloha_sim_cube_scripted_dataset/1.0.0'"
   ]
  },
  {
   "cell_type": "code",
   "execution_count": 7,
   "id": "1059d206-3afb-46be-9ee7-af1857912ac7",
   "metadata": {},
   "outputs": [],
   "source": [
    "tfrecord_files = [os.path.join(dataset_directory, filename) for filename in os.listdir(dataset_directory) \n",
    "                  if filename.split('.')[-1].startswith('tfrecord')]"
   ]
  },
  {
   "cell_type": "code",
   "execution_count": 9,
   "id": "f47cc49a-5587-4a7a-992e-4ee946c069fe",
   "metadata": {},
   "outputs": [],
   "source": [
    "feature_json_path = os.path.join(dataset_directory, 'features.json')\n",
    "with open(feature_json_path, 'r') as f: \n",
    "    feature_description = json.load(f)"
   ]
  },
  {
   "cell_type": "code",
   "execution_count": 14,
   "id": "8e8ade07-6592-4901-a5ca-4293cb4e452c",
   "metadata": {},
   "outputs": [
    {
     "name": "stdout",
     "output_type": "stream",
     "text": [
      "{\n",
      "    \"pythonClassName\": \"tensorflow_datasets.core.features.features_dict.FeaturesDict\",\n",
      "    \"featuresDict\": {\n",
      "        \"features\": {\n",
      "            \"steps\": {\n",
      "                \"pythonClassName\": \"tensorflow_datasets.core.features.dataset_feature.Dataset\",\n",
      "                \"sequence\": {\n",
      "                    \"feature\": {\n",
      "                        \"pythonClassName\": \"tensorflow_datasets.core.features.features_dict.FeaturesDict\",\n",
      "                        \"featuresDict\": {\n",
      "                            \"features\": {\n",
      "                                \"action\": {\n",
      "                                    \"pythonClassName\": \"tensorflow_datasets.core.features.tensor_feature.Tensor\",\n",
      "                                    \"tensor\": {\n",
      "                                        \"shape\": {\n",
      "                                            \"dimensions\": [\n",
      "                                                \"14\"\n",
      "                                            ]\n",
      "                                        },\n",
      "                                        \"dtype\": \"float32\",\n",
      "                                        \"encoding\": \"none\"\n",
      "                                    },\n",
      "                                    \"description\": \"Robot action for joints in two arms + grippers.\"\n",
      "                                },\n",
      "                                \"is_terminal\": {\n",
      "                                    \"pythonClassName\": \"tensorflow_datasets.core.features.scalar.Scalar\",\n",
      "                                    \"tensor\": {\n",
      "                                        \"shape\": {},\n",
      "                                        \"dtype\": \"bool\",\n",
      "                                        \"encoding\": \"none\"\n",
      "                                    },\n",
      "                                    \"description\": \"True on last step of the episode if it is a terminal step, True for demos.\"\n",
      "                                },\n",
      "                                \"is_last\": {\n",
      "                                    \"pythonClassName\": \"tensorflow_datasets.core.features.scalar.Scalar\",\n",
      "                                    \"tensor\": {\n",
      "                                        \"shape\": {},\n",
      "                                        \"dtype\": \"bool\",\n",
      "                                        \"encoding\": \"none\"\n",
      "                                    },\n",
      "                                    \"description\": \"True on last step of the episode.\"\n",
      "                                },\n",
      "                                \"language_instruction\": {\n",
      "                                    \"pythonClassName\": \"tensorflow_datasets.core.features.text_feature.Text\",\n",
      "                                    \"text\": {},\n",
      "                                    \"description\": \"Language Instruction.\"\n",
      "                                },\n",
      "                                \"observation\": {\n",
      "                                    \"pythonClassName\": \"tensorflow_datasets.core.features.features_dict.FeaturesDict\",\n",
      "                                    \"featuresDict\": {\n",
      "                                        \"features\": {\n",
      "                                            \"state\": {\n",
      "                                                \"pythonClassName\": \"tensorflow_datasets.core.features.tensor_feature.Tensor\",\n",
      "                                                \"tensor\": {\n",
      "                                                    \"shape\": {\n",
      "                                                        \"dimensions\": [\n",
      "                                                            \"14\"\n",
      "                                                        ]\n",
      "                                                    },\n",
      "                                                    \"dtype\": \"float32\",\n",
      "                                                    \"encoding\": \"none\"\n",
      "                                                },\n",
      "                                                \"description\": \"Robot joint pos (two arms + grippers).\"\n",
      "                                            },\n",
      "                                            \"top\": {\n",
      "                                                \"pythonClassName\": \"tensorflow_datasets.core.features.image_feature.Image\",\n",
      "                                                \"image\": {\n",
      "                                                    \"shape\": {\n",
      "                                                        \"dimensions\": [\n",
      "                                                            \"480\",\n",
      "                                                            \"640\",\n",
      "                                                            \"3\"\n",
      "                                                        ]\n",
      "                                                    },\n",
      "                                                    \"dtype\": \"uint8\",\n",
      "                                                    \"encodingFormat\": \"jpeg\"\n",
      "                                                },\n",
      "                                                \"description\": \"RGB camera observation.\"\n",
      "                                            }\n",
      "                                        }\n",
      "                                    }\n",
      "                                },\n",
      "                                \"is_first\": {\n",
      "                                    \"pythonClassName\": \"tensorflow_datasets.core.features.scalar.Scalar\",\n",
      "                                    \"tensor\": {\n",
      "                                        \"shape\": {},\n",
      "                                        \"dtype\": \"bool\",\n",
      "                                        \"encoding\": \"none\"\n",
      "                                    },\n",
      "                                    \"description\": \"True on first step of the episode.\"\n",
      "                                },\n",
      "                                \"discount\": {\n",
      "                                    \"pythonClassName\": \"tensorflow_datasets.core.features.scalar.Scalar\",\n",
      "                                    \"tensor\": {\n",
      "                                        \"shape\": {},\n",
      "                                        \"dtype\": \"float32\",\n",
      "                                        \"encoding\": \"none\"\n",
      "                                    },\n",
      "                                    \"description\": \"Discount if provided, default to 1.\"\n",
      "                                },\n",
      "                                \"reward\": {\n",
      "                                    \"pythonClassName\": \"tensorflow_datasets.core.features.scalar.Scalar\",\n",
      "                                    \"tensor\": {\n",
      "                                        \"shape\": {},\n",
      "                                        \"dtype\": \"float32\",\n",
      "                                        \"encoding\": \"none\"\n",
      "                                    },\n",
      "                                    \"description\": \"Reward if provided, 1 on final step for demos.\"\n",
      "                                }\n",
      "                            }\n",
      "                        }\n",
      "                    },\n",
      "                    \"length\": \"-1\"\n",
      "                }\n",
      "            },\n",
      "            \"episode_metadata\": {\n",
      "                \"pythonClassName\": \"tensorflow_datasets.core.features.features_dict.FeaturesDict\",\n",
      "                \"featuresDict\": {\n",
      "                    \"features\": {\n",
      "                        \"file_path\": {\n",
      "                            \"pythonClassName\": \"tensorflow_datasets.core.features.text_feature.Text\",\n",
      "                            \"text\": {},\n",
      "                            \"description\": \"Path to the original data file.\"\n",
      "                        }\n",
      "                    }\n",
      "                }\n",
      "            }\n",
      "        }\n",
      "    }\n",
      "}\n"
     ]
    }
   ],
   "source": [
    "print(json.dumps(feature_description, indent=4))"
   ]
  },
  {
   "cell_type": "code",
   "execution_count": null,
   "id": "be74a4f3-67d8-4643-bb72-f30d84f34e41",
   "metadata": {},
   "outputs": [],
   "source": []
  }
 ],
 "metadata": {
  "kernelspec": {
   "display_name": "Python 3 (ipykernel)",
   "language": "python",
   "name": "python3"
  },
  "language_info": {
   "codemirror_mode": {
    "name": "ipython",
    "version": 3
   },
   "file_extension": ".py",
   "mimetype": "text/x-python",
   "name": "python",
   "nbconvert_exporter": "python",
   "pygments_lexer": "ipython3",
   "version": "3.10.14"
  }
 },
 "nbformat": 4,
 "nbformat_minor": 5
}
