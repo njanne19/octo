{
 "cells": [
  {
   "cell_type": "code",
   "execution_count": 2,
   "id": "7d460439-b0af-4ef1-9adf-1c1a58f6ea72",
   "metadata": {},
   "outputs": [],
   "source": [
    "from absl import app, flags, logging\n",
    "import flax \n",
    "import optax \n",
    "import tensorflow as tf \n",
    "import tqdm \n",
    "import wandb \n",
    "import os \n",
    "import numpy as np \n",
    "import pickle "
   ]
  },
  {
   "cell_type": "code",
   "execution_count": 5,
   "id": "b09fe3ed-2e83-436a-85b1-8003a5492009",
   "metadata": {},
   "outputs": [],
   "source": [
    "from octo.data.dataset import make_single_dataset\n",
    "from octo.data.utils.data_utils import NormalizationType \n",
    "from octo.model.components.action_heads import L1ActionHead\n",
    "from octo.model.components.tokenizers import LowdimObsTokenizer\n",
    "from octo.model.octo_model import OctoModel\n",
    "from octo.utils.jax_utils import initialize_compilation_cache\n",
    "from octo.utils.spec import ModuleSpec \n",
    "from octo.utils.train_utils import (\n",
    "    freeze_weights, \n",
    "    merge_params, \n",
    "    process_text, \n",
    "    TrainState,\n",
    ")"
   ]
  },
  {
   "cell_type": "code",
   "execution_count": 6,
   "id": "fb212f78-33b9-4f4d-875a-8dbe1e43c8e3",
   "metadata": {},
   "outputs": [
    {
     "data": {
      "text/plain": [
       "'/home/hotel/Desktop/octo/notebooks'"
      ]
     },
     "execution_count": 6,
     "metadata": {},
     "output_type": "execute_result"
    }
   ],
   "source": [
    "os.getcwd()"
   ]
  },
  {
   "cell_type": "markdown",
   "id": "430c1371-985f-4bf7-8046-21af97a65408",
   "metadata": {},
   "source": [
    "## Testing dataset creation\n",
    "Up until this point, we've been interacting with data in numpy, etc. formats. Octo accepts one dataset conversion handler, and that's from a pre-existing [RLDS](https://github.com/google-research/rlds) style dataset into the format that they request. \"Episodes\" as it would map onto in the pickle dataset are stored in the octo_objects directory (each episode independently). I'm going to try and create an RLDS dataset of a single episode and feed it into Octo"
   ]
  },
  {
   "cell_type": "code",
   "execution_count": 8,
   "id": "50b1e1c9-b1bd-459b-a7a1-5be5a5c3049d",
   "metadata": {},
   "outputs": [],
   "source": [
    "test_filename = os.path.join(os.getcwd(), '..', 'recordings', 'octo_objects', 'recording2024_03_22-02_52_21_AM.pkl')"
   ]
  },
  {
   "cell_type": "code",
   "execution_count": 9,
   "id": "1a19ef51-a517-4532-b4b7-63c28b2a8ec4",
   "metadata": {},
   "outputs": [],
   "source": [
    "with open(test_filename, 'rb') as file: \n",
    "    test_item = pickle.load(file)"
   ]
  },
  {
   "cell_type": "code",
   "execution_count": 11,
   "id": "9477b66f-eddc-47ef-ac01-86b2ea413dab",
   "metadata": {},
   "outputs": [
    {
     "name": "stdout",
     "output_type": "stream",
     "text": [
      "dict_keys(['observation', 'task', 'action'])\n"
     ]
    }
   ],
   "source": [
    "print(test_item.keys())"
   ]
  },
  {
   "cell_type": "code",
   "execution_count": 12,
   "id": "93e13f07-737d-418d-813e-224eea1fd99b",
   "metadata": {},
   "outputs": [
    {
     "ename": "AttributeError",
     "evalue": "module 'rlds' has no attribute 'transformers'",
     "output_type": "error",
     "traceback": [
      "\u001b[0;31m---------------------------------------------------------------------------\u001b[0m",
      "\u001b[0;31mAttributeError\u001b[0m                            Traceback (most recent call last)",
      "Cell \u001b[0;32mIn[12], line 1\u001b[0m\n\u001b[0;32m----> 1\u001b[0m dataset \u001b[38;5;241m=\u001b[39m \u001b[43mrlds\u001b[49m\u001b[38;5;241;43m.\u001b[39;49m\u001b[43mtransformers\u001b[49m\u001b[38;5;241m.\u001b[39msteps_to_episode_dataset([test_item])\n",
      "\u001b[0;31mAttributeError\u001b[0m: module 'rlds' has no attribute 'transformers'"
     ]
    }
   ],
   "source": [
    "dataset = rlds.transformers.steps_to_episode_dataset([test_item])"
   ]
  },
  {
   "cell_type": "code",
   "execution_count": null,
   "id": "69405f78-65f1-46cf-8033-462b6e50ea36",
   "metadata": {},
   "outputs": [],
   "source": []
  }
 ],
 "metadata": {
  "kernelspec": {
   "display_name": "Python 3 (ipykernel)",
   "language": "python",
   "name": "python3"
  },
  "language_info": {
   "codemirror_mode": {
    "name": "ipython",
    "version": 3
   },
   "file_extension": ".py",
   "mimetype": "text/x-python",
   "name": "python",
   "nbconvert_exporter": "python",
   "pygments_lexer": "ipython3",
   "version": "3.10.14"
  }
 },
 "nbformat": 4,
 "nbformat_minor": 5
}
